{
 "cells": [
  {
   "cell_type": "code",
   "execution_count": 1,
   "metadata": {},
   "outputs": [],
   "source": [
    "%matplotlib inline\n",
    "import pandas as pd\n",
    "import scipy as sc\n",
    "import numpy as np\n",
    "import matplotlib.pyplot as plt\n",
    "import math"
   ]
  },
  {
   "cell_type": "code",
   "execution_count": 2,
   "metadata": {},
   "outputs": [],
   "source": [
    "df = pd.read_excel('Classeur1.xlsx')"
   ]
  },
  {
   "cell_type": "markdown",
   "metadata": {},
   "source": [
    "## TD CLASSIFICATION NON HIERARCHIQUE"
   ]
  },
  {
   "cell_type": "markdown",
   "metadata": {},
   "source": [
    "On considère 6 individus (M i ) avec les coordonnées suivants (selon deux variables X et Y) :"
   ]
  },
  {
   "cell_type": "code",
   "execution_count": 3,
   "metadata": {},
   "outputs": [
    {
     "data": {
      "text/html": [
       "<div>\n",
       "<style scoped>\n",
       "    .dataframe tbody tr th:only-of-type {\n",
       "        vertical-align: middle;\n",
       "    }\n",
       "\n",
       "    .dataframe tbody tr th {\n",
       "        vertical-align: top;\n",
       "    }\n",
       "\n",
       "    .dataframe thead th {\n",
       "        text-align: right;\n",
       "    }\n",
       "</style>\n",
       "<table border=\"1\" class=\"dataframe\">\n",
       "  <thead>\n",
       "    <tr style=\"text-align: right;\">\n",
       "      <th></th>\n",
       "      <th>Colonne1</th>\n",
       "      <th>X</th>\n",
       "      <th>Y</th>\n",
       "    </tr>\n",
       "  </thead>\n",
       "  <tbody>\n",
       "    <tr>\n",
       "      <th>0</th>\n",
       "      <td>M1</td>\n",
       "      <td>-2</td>\n",
       "      <td>3</td>\n",
       "    </tr>\n",
       "    <tr>\n",
       "      <th>1</th>\n",
       "      <td>M2</td>\n",
       "      <td>-2</td>\n",
       "      <td>1</td>\n",
       "    </tr>\n",
       "    <tr>\n",
       "      <th>2</th>\n",
       "      <td>M3</td>\n",
       "      <td>-2</td>\n",
       "      <td>-1</td>\n",
       "    </tr>\n",
       "    <tr>\n",
       "      <th>3</th>\n",
       "      <td>M4</td>\n",
       "      <td>2</td>\n",
       "      <td>-1</td>\n",
       "    </tr>\n",
       "    <tr>\n",
       "      <th>4</th>\n",
       "      <td>M5</td>\n",
       "      <td>2</td>\n",
       "      <td>1</td>\n",
       "    </tr>\n",
       "    <tr>\n",
       "      <th>5</th>\n",
       "      <td>M6</td>\n",
       "      <td>1</td>\n",
       "      <td>0</td>\n",
       "    </tr>\n",
       "  </tbody>\n",
       "</table>\n",
       "</div>"
      ],
      "text/plain": [
       "  Colonne1  X  Y\n",
       "0       M1 -2  3\n",
       "1       M2 -2  1\n",
       "2       M3 -2 -1\n",
       "3       M4  2 -1\n",
       "4       M5  2  1\n",
       "5       M6  1  0"
      ]
     },
     "execution_count": 3,
     "metadata": {},
     "output_type": "execute_result"
    }
   ],
   "source": [
    "df"
   ]
  },
  {
   "cell_type": "markdown",
   "metadata": {},
   "source": [
    "On veut mener une classification non hiérarchique en deux groupes en utilisant la méthode des\n",
    "moyennes ou centres mobiles. On considère les individus M1 et M2 comme centres initiaux."
   ]
  },
  {
   "cell_type": "code",
   "execution_count": 4,
   "metadata": {},
   "outputs": [],
   "source": [
    "class Point:\n",
    "    def __init__(self, x, y):\n",
    "        self.__x = x\n",
    "        self.__y = y\n",
    "\n",
    "    def get_x(self):\n",
    "        return self.__x\n",
    "\n",
    "    def get_y(self):\n",
    "        return self.__y\n",
    "\n",
    "    def set_x(self, x):\n",
    "        self.__x = x\n",
    "\n",
    "    def set_y(self, y):\n",
    "        self.__y = y\n",
    "    def distance(self, p):\n",
    "        d = math.sqrt( (self.get_x() - p.get_x() )**2 + (self.get_y() - p.get_y() )**2 )\n",
    "        return d\n",
    "    def moyenne(self, points):\n",
    "        mx = 0\n",
    "        my = 0\n",
    "        for i in points:\n",
    "            mx += i.get_x()\n",
    "            my += i.get_y()\n",
    "        mx = mx/len(points)\n",
    "        my = my/len(points)\n",
    "        return Point(mx, my)\n",
    "    def decrire(self, p):\n",
    "        print('le {} a pour cordonnées: x = {}, y = {} '.format( p, self.get_x(), self.get_y() ))"
   ]
  },
  {
   "cell_type": "code",
   "execution_count": 5,
   "metadata": {},
   "outputs": [],
   "source": [
    "M1 = Point( df.iloc[0, 1], df.iloc[0, 2] )\n",
    "M2 = Point( df.iloc[1, 1], df.iloc[1, 2] )"
   ]
  },
  {
   "cell_type": "code",
   "execution_count": 6,
   "metadata": {},
   "outputs": [],
   "source": [
    "rest_el = df.iloc[2:, 1:]"
   ]
  },
  {
   "cell_type": "code",
   "execution_count": 7,
   "metadata": {},
   "outputs": [],
   "source": [
    "points = {} \n",
    "i=3\n",
    "for x, y in zip(rest_el['X'], rest_el['Y']):\n",
    "    points['M'+str(i)]=Point( x, y )\n",
    "    i +=1"
   ]
  },
  {
   "cell_type": "code",
   "execution_count": 8,
   "metadata": {},
   "outputs": [
    {
     "data": {
      "text/plain": [
       "{'M3': <__main__.Point at 0x1623c51fee0>,\n",
       " 'M4': <__main__.Point at 0x1623c51f610>,\n",
       " 'M5': <__main__.Point at 0x1623c51fe20>,\n",
       " 'M6': <__main__.Point at 0x1623c51ff40>}"
      ]
     },
     "execution_count": 8,
     "metadata": {},
     "output_type": "execute_result"
    }
   ],
   "source": [
    "points"
   ]
  },
  {
   "cell_type": "code",
   "execution_count": 9,
   "metadata": {},
   "outputs": [],
   "source": [
    "distanceM1M3 = M1.distance(points['M3']) \n",
    "distanceM1M4 = M1.distance(points['M4'])\n",
    "distanceM1M5 = M1.distance(points['M5'])\n",
    "distanceM1M6 = M1.distance(points['M6'])"
   ]
  },
  {
   "cell_type": "code",
   "execution_count": 10,
   "metadata": {},
   "outputs": [],
   "source": [
    "distanceM2M3 = M2.distance(points['M3']) \n",
    "distanceM2M4 = M2.distance(points['M4'])\n",
    "distanceM2M5 = M2.distance(points['M5'])\n",
    "distanceM2M6 = M2.distance(points['M6'])"
   ]
  },
  {
   "cell_type": "code",
   "execution_count": 11,
   "metadata": {},
   "outputs": [],
   "source": [
    "claster_M1 = []\n",
    "claster_M2 = []\n",
    "if distanceM1M3 < distanceM2M3:\n",
    "    claster_M1.append(points['M3'])\n",
    "else:\n",
    "    claster_M2.append(points['M3'])\n",
    "    \n",
    "if distanceM1M4 < distanceM2M4:\n",
    "    claster_M1.append(points['M4'])\n",
    "else:\n",
    "    claster_M2.append(points['M4'])\n",
    "    \n",
    "if distanceM1M5 < distanceM2M5:\n",
    "    claster_M1.append(points['M5'])\n",
    "else:\n",
    "    claster_M2.append(points['M5'])\n",
    "    \n",
    "    \n",
    "if distanceM1M6 < distanceM2M6:\n",
    "    claster_M1.append(points['M6'])\n",
    "else:\n",
    "    claster_M2.append(points['M6'])\n"
   ]
  },
  {
   "cell_type": "code",
   "execution_count": 12,
   "metadata": {},
   "outputs": [
    {
     "data": {
      "text/plain": [
       "[]"
      ]
     },
     "execution_count": 12,
     "metadata": {},
     "output_type": "execute_result"
    }
   ],
   "source": [
    "claster_M1"
   ]
  },
  {
   "cell_type": "code",
   "execution_count": 13,
   "metadata": {},
   "outputs": [
    {
     "data": {
      "text/plain": [
       "[<__main__.Point at 0x1623c51fee0>,\n",
       " <__main__.Point at 0x1623c51f610>,\n",
       " <__main__.Point at 0x1623c51fe20>,\n",
       " <__main__.Point at 0x1623c51ff40>]"
      ]
     },
     "execution_count": 13,
     "metadata": {},
     "output_type": "execute_result"
    }
   ],
   "source": [
    "claster_M2"
   ]
  },
  {
   "cell_type": "code",
   "execution_count": 14,
   "metadata": {},
   "outputs": [],
   "source": [
    "claster_M2.append(M2)\n",
    "claster_M1.append(M1)"
   ]
  },
  {
   "cell_type": "code",
   "execution_count": 15,
   "metadata": {},
   "outputs": [
    {
     "data": {
      "text/plain": [
       "5.656854249492381"
      ]
     },
     "execution_count": 15,
     "metadata": {},
     "output_type": "execute_result"
    }
   ],
   "source": [
    "distanceM1M4"
   ]
  },
  {
   "cell_type": "code",
   "execution_count": 16,
   "metadata": {},
   "outputs": [
    {
     "data": {
      "text/plain": [
       "4.47213595499958"
      ]
     },
     "execution_count": 16,
     "metadata": {},
     "output_type": "execute_result"
    }
   ],
   "source": [
    "distanceM2M4"
   ]
  },
  {
   "cell_type": "code",
   "execution_count": 17,
   "metadata": {},
   "outputs": [
    {
     "data": {
      "text/plain": [
       "4.47213595499958"
      ]
     },
     "execution_count": 17,
     "metadata": {},
     "output_type": "execute_result"
    }
   ],
   "source": [
    "distanceM1M5"
   ]
  },
  {
   "cell_type": "code",
   "execution_count": 18,
   "metadata": {},
   "outputs": [
    {
     "data": {
      "text/plain": [
       "4.0"
      ]
     },
     "execution_count": 18,
     "metadata": {},
     "output_type": "execute_result"
    }
   ],
   "source": [
    "distanceM2M5"
   ]
  },
  {
   "cell_type": "code",
   "execution_count": 19,
   "metadata": {},
   "outputs": [
    {
     "data": {
      "text/plain": [
       "4.242640687119285"
      ]
     },
     "execution_count": 19,
     "metadata": {},
     "output_type": "execute_result"
    }
   ],
   "source": [
    "distanceM1M6"
   ]
  },
  {
   "cell_type": "code",
   "execution_count": 20,
   "metadata": {},
   "outputs": [
    {
     "data": {
      "text/plain": [
       "3.1622776601683795"
      ]
     },
     "execution_count": 20,
     "metadata": {},
     "output_type": "execute_result"
    }
   ],
   "source": [
    "distanceM2M6"
   ]
  },
  {
   "cell_type": "code",
   "execution_count": 21,
   "metadata": {},
   "outputs": [
    {
     "data": {
      "image/png": "[encoded data removed]",
      "text/plain": [
       "<Figure size 432x288 with 1 Axes>"
      ]
     },
     "metadata": {
      "needs_background": "light"
     },
     "output_type": "display_data"
    }
   ],
   "source": [
    "plt.figure()\n",
    "plt.axis([-3, 4, -3, 4])\n",
    "plt.scatter(M1.get_x(), M1.get_y(), c='red', s=450)\n",
    "plt.scatter(M2.get_x(), M2.get_y(), c='blue', s=450)\n",
    "\n",
    "# puis le claster 1 est vide je ne vais rien afficher pour ce claster\n",
    "for c in claster_M2:\n",
    "    plt.scatter(c.get_x(), c.get_y(), c='blue', s=100)"
   ]
  },
  {
   "cell_type": "markdown",
   "metadata": {},
   "source": [
    "### Premier tour tous les points sont proche de M2"
   ]
  },
  {
   "cell_type": "markdown",
   "metadata": {},
   "source": [
    "# Deuxième iteration"
   ]
  },
  {
   "cell_type": "code",
   "execution_count": 22,
   "metadata": {},
   "outputs": [],
   "source": [
    "M11 = M1.moyenne(claster_M1)\n",
    "M22 = M2.moyenne(claster_M2)"
   ]
  },
  {
   "cell_type": "code",
   "execution_count": 23,
   "metadata": {},
   "outputs": [
    {
     "name": "stdout",
     "output_type": "stream",
     "text": [
      "le M11 a pour cordonnées: x = -2.0, y = 3.0 \n",
      "le M22 a pour cordonnées: x = 0.2, y = 0.0 \n"
     ]
    }
   ],
   "source": [
    "## mes nouveaux centres sont:\n",
    "M11.decrire('M11')\n",
    "M22.decrire('M22')"
   ]
  },
  {
   "cell_type": "code",
   "execution_count": 27,
   "metadata": {},
   "outputs": [],
   "source": [
    "distanceM11M1 = M11.distance(M1)\n",
    "distanceM11M2 = M11.distance(M2)\n",
    "distanceM11M3 = M11.distance(points['M3']) \n",
    "distanceM11M4 = M11.distance(points['M4'])\n",
    "distanceM11M5 = M11.distance(points['M5'])\n",
    "distanceM11M6 = M11.distance(points['M6'])"
   ]
  },
  {
   "cell_type": "code",
   "execution_count": 28,
   "metadata": {},
   "outputs": [],
   "source": [
    "distanceM22M1 = M22.distance(M1) \n",
    "distanceM22M2 = M22.distance(M2) \n",
    "distanceM22M3 = M22.distance(points['M3']) \n",
    "distanceM22M4 = M22.distance(points['M4'])\n",
    "distanceM22M5 = M22.distance(points['M5'])\n",
    "distanceM22M6 = M22.distance(points['M6'])"
   ]
  },
  {
   "cell_type": "code",
   "execution_count": 29,
   "metadata": {},
   "outputs": [],
   "source": [
    "claster_M11 = []\n",
    "claster_M22 = []\n",
    "\n",
    "if distanceM11M1 < distanceM22M1:\n",
    "    claster_M11.append(M1)\n",
    "else:\n",
    "    claster_M22.append(M1)\n",
    "\n",
    "if distanceM11M2 < distanceM22M2:\n",
    "    claster_M11.append(M2)\n",
    "else:\n",
    "    claster_M22.append(M2)\n",
    "    \n",
    "if distanceM11M3 < distanceM22M3:\n",
    "    claster_M11.append(points['M3'])\n",
    "else:\n",
    "    claster_M22.append(points['M3'])\n",
    "    \n",
    "if distanceM11M4 < distanceM22M4:\n",
    "    claster_M11.append(points['M4'])\n",
    "else:\n",
    "    claster_M22.append(points['M4'])\n",
    "    \n",
    "if distanceM11M5 < distanceM22M5:\n",
    "    claster_M11.append(points['M5'])\n",
    "else:\n",
    "    claster_M22.append(points['M5'])\n",
    "    \n",
    "    \n",
    "if distanceM11M6 < distanceM22M6:\n",
    "    claster_M11.append(points['M6'])\n",
    "else:\n",
    "    claster_M22.append(points['M6'])\n"
   ]
  },
  {
   "cell_type": "code",
   "execution_count": 30,
   "metadata": {},
   "outputs": [
    {
     "data": {
      "text/plain": [
       "[<__main__.Point at 0x1623c51fb80>, <__main__.Point at 0x1623c51fb80>]"
      ]
     },
     "execution_count": 30,
     "metadata": {},
     "output_type": "execute_result"
    }
   ],
   "source": [
    "claster_M1.append(M1)\n",
    "claster_M1"
   ]
  },
  {
   "cell_type": "code",
   "execution_count": 31,
   "metadata": {},
   "outputs": [
    {
     "data": {
      "text/plain": [
       "[<__main__.Point at 0x1623c51fee0>,\n",
       " <__main__.Point at 0x1623c51f610>,\n",
       " <__main__.Point at 0x1623c51fe20>,\n",
       " <__main__.Point at 0x1623c51ff40>,\n",
       " <__main__.Point at 0x1623c845340>]"
      ]
     },
     "execution_count": 31,
     "metadata": {},
     "output_type": "execute_result"
    }
   ],
   "source": [
    "claster_M22.append(M22)\n",
    "claster_M22"
   ]
  },
  {
   "cell_type": "code",
   "execution_count": 37,
   "metadata": {},
   "outputs": [],
   "source": [
    "claster_M11.append(M1)"
   ]
  },
  {
   "cell_type": "code",
   "execution_count": 38,
   "metadata": {},
   "outputs": [
    {
     "data": {
      "text/plain": [
       "2.0"
      ]
     },
     "execution_count": 38,
     "metadata": {},
     "output_type": "execute_result"
    }
   ],
   "source": [
    "distanceM11M2"
   ]
  },
  {
   "cell_type": "code",
   "execution_count": 39,
   "metadata": {},
   "outputs": [
    {
     "data": {
      "text/plain": [
       "2.4166091947189146"
      ]
     },
     "execution_count": 39,
     "metadata": {},
     "output_type": "execute_result"
    }
   ],
   "source": [
    "distanceM22M2"
   ]
  },
  {
   "cell_type": "code",
   "execution_count": 40,
   "metadata": {},
   "outputs": [
    {
     "data": {
      "text/plain": [
       "4.0"
      ]
     },
     "execution_count": 40,
     "metadata": {},
     "output_type": "execute_result"
    }
   ],
   "source": [
    "distanceM1M3"
   ]
  },
  {
   "cell_type": "code",
   "execution_count": 41,
   "metadata": {},
   "outputs": [
    {
     "data": {
      "text/plain": [
       "2.4166091947189146"
      ]
     },
     "execution_count": 41,
     "metadata": {},
     "output_type": "execute_result"
    }
   ],
   "source": [
    "distanceM22M3"
   ]
  },
  {
   "cell_type": "code",
   "execution_count": 43,
   "metadata": {},
   "outputs": [],
   "source": [
    "M222=M22.moyenne(claster_M22)\n",
    "M11=M11.moyenne(claster_M11)"
   ]
  },
  {
   "cell_type": "code",
   "execution_count": 44,
   "metadata": {},
   "outputs": [
    {
     "name": "stdout",
     "output_type": "stream",
     "text": [
      "le M222 a pour cordonnées: x = 0.64, y = -0.2 \n",
      "le M11 a pour cordonnées: x = -2.0, y = 2.5 \n"
     ]
    }
   ],
   "source": [
    "M222.decrire('M222')\n",
    "M11.decrire('M11')"
   ]
  },
  {
   "cell_type": "code",
   "execution_count": 45,
   "metadata": {},
   "outputs": [
    {
     "data": {
      "image/png": "[encoded data removed]",
      "text/plain": [
       "<Figure size 432x288 with 1 Axes>"
      ]
     },
     "metadata": {
      "needs_background": "light"
     },
     "output_type": "display_data"
    }
   ],
   "source": [
    "plt.figure()\n",
    "plt.axis([-3, 4, -3, 4])\n",
    "plt.scatter(M11.get_x(), M11.get_y(), c='red', s=450)\n",
    "plt.scatter(M22.get_x(), M22.get_y(), c='blue', s=450)\n",
    "\n",
    "# puis le claster 1 est vide je ne vais rien afficher pour ce claster\n",
    "for c in claster_M11:\n",
    "    plt.scatter(c.get_x(), c.get_y(), c='red', s=100)\n",
    "\n",
    "# puis le claster 1 est vide je ne vais rien afficher pour ce claster\n",
    "for c in claster_M22:\n",
    "    plt.scatter(c.get_x(), c.get_y(), c='blue', s=100)\n",
    "plt.show()"
   ]
  },
  {
   "cell_type": "markdown",
   "metadata": {},
   "source": [
    "# Troisième Iteration"
   ]
  },
  {
   "cell_type": "code",
   "execution_count": 46,
   "metadata": {},
   "outputs": [],
   "source": [
    "claster_M22.append(M22)\n",
    "claster_M22.append(M11)"
   ]
  },
  {
   "cell_type": "code",
   "execution_count": 47,
   "metadata": {},
   "outputs": [],
   "source": [
    "M222  = M22.moyenne(claster_M22)\n",
    "M111 = M11.moyenne( claster_M11 )"
   ]
  },
  {
   "cell_type": "code",
   "execution_count": 48,
   "metadata": {},
   "outputs": [
    {
     "name": "stdout",
     "output_type": "stream",
     "text": [
      "le M111 a pour cordonnées: x = -2.0, y = 2.5 \n",
      "le M222 a pour cordonnées: x = 0.20000000000000004, y = 0.21428571428571427 \n"
     ]
    }
   ],
   "source": [
    "# les nouveaux centres\n",
    "M111.decrire('M111')\n",
    "M222.decrire('M222')"
   ]
  },
  {
   "cell_type": "code",
   "execution_count": 49,
   "metadata": {},
   "outputs": [],
   "source": [
    "distanceM111M11 = M11.distance(M11)\n",
    "distanceM111M22 = M11.distance(M22)\n",
    "distanceM111M1 = M11.distance(M1)\n",
    "distanceM111M2 = M11.distance(M2)\n",
    "distanceM111M3 = M11.distance(points['M3']) \n",
    "distanceM111M4 = M11.distance(points['M4'])\n",
    "distanceM111M5 = M11.distance(points['M5'])\n",
    "distanceM111M6 = M11.distance(points['M6'])"
   ]
  },
  {
   "cell_type": "code",
   "execution_count": 50,
   "metadata": {},
   "outputs": [],
   "source": [
    "distanceM222M11 = M222.distance(M11) \n",
    "distanceM222M22 = M222.distance(M22)\n",
    "distanceM222M1 = M222.distance(M1) \n",
    "distanceM222M2 = M222.distance(M2) \n",
    "distanceM222M3 = M222.distance(points['M3']) \n",
    "distanceM222M4 = M222.distance(points['M4'])\n",
    "distanceM222M5 = M222.distance(points['M5'])\n",
    "distanceM222M6 = M222.distance(points['M6'])"
   ]
  },
  {
   "cell_type": "code",
   "execution_count": 51,
   "metadata": {},
   "outputs": [
    {
     "data": {
      "text/plain": [
       "0.21428571428571427"
      ]
     },
     "execution_count": 51,
     "metadata": {},
     "output_type": "execute_result"
    }
   ],
   "source": [
    "distanceM222M22"
   ]
  },
  {
   "cell_type": "code",
   "execution_count": 52,
   "metadata": {},
   "outputs": [
    {
     "data": {
      "text/plain": [
       "3.3301651610693423"
      ]
     },
     "execution_count": 52,
     "metadata": {},
     "output_type": "execute_result"
    }
   ],
   "source": [
    "distanceM111M22"
   ]
  },
  {
   "cell_type": "code",
   "execution_count": 53,
   "metadata": {},
   "outputs": [],
   "source": [
    "claster_M111 = []\n",
    "claster_M222 = []\n",
    "\n",
    "if distanceM111M1 < distanceM222M1:\n",
    "    claster_M111.append(M1)\n",
    "else:\n",
    "    claster_M222.append(M1)\n",
    "\n",
    "if distanceM111M2 < distanceM222M2:\n",
    "    claster_M111.append(M2)\n",
    "else:\n",
    "    claster_M222.append(M2)\n",
    "    \n",
    "if distanceM111M2 < distanceM222M11:\n",
    "    claster_M111.append(M11)\n",
    "else:\n",
    "    claster_M222.append(M11)\n",
    "    \n",
    "if distanceM111M22 < distanceM222M22:\n",
    "    claster_M111.append(M22)\n",
    "else:\n",
    "    claster_M222.append(M22)\n",
    "    \n",
    "       \n",
    "if distanceM111M3 < distanceM222M3:\n",
    "    claster_M111.append(points['M3'])\n",
    "else:\n",
    "    claster_M222.append(points['M3'])\n",
    "    \n",
    "if distanceM111M4 < distanceM222M4:\n",
    "    claster_M111.append(points['M4'])\n",
    "else:\n",
    "    claster_M222.append(points['M4'])\n",
    "    \n",
    "if distanceM111M5 < distanceM222M5:\n",
    "    claster_M111.append(points['M5'])\n",
    "else:\n",
    "    claster_M222.append(points['M5'])\n",
    "    \n",
    "    \n",
    "if distanceM111M6 < distanceM222M6:\n",
    "    claster_M111.append(points['M6'])\n",
    "else:\n",
    "    claster_M222.append(points['M6'])\n"
   ]
  },
  {
   "cell_type": "code",
   "execution_count": 54,
   "metadata": {},
   "outputs": [
    {
     "data": {
      "text/plain": [
       "[<__main__.Point at 0x1623c51fb80>,\n",
       " <__main__.Point at 0x1623c51fbe0>,\n",
       " <__main__.Point at 0x1623c892af0>]"
      ]
     },
     "execution_count": 54,
     "metadata": {},
     "output_type": "execute_result"
    }
   ],
   "source": [
    "claster_M111"
   ]
  },
  {
   "cell_type": "code",
   "execution_count": 55,
   "metadata": {},
   "outputs": [
    {
     "data": {
      "text/plain": [
       "[<__main__.Point at 0x1623c845340>,\n",
       " <__main__.Point at 0x1623c51fee0>,\n",
       " <__main__.Point at 0x1623c51f610>,\n",
       " <__main__.Point at 0x1623c51fe20>,\n",
       " <__main__.Point at 0x1623c51ff40>]"
      ]
     },
     "execution_count": 55,
     "metadata": {},
     "output_type": "execute_result"
    }
   ],
   "source": [
    "claster_M222"
   ]
  },
  {
   "cell_type": "code",
   "execution_count": 56,
   "metadata": {},
   "outputs": [
    {
     "data": {
      "image/png": "[encoded data removed]",
      "text/plain": [
       "<Figure size 432x288 with 1 Axes>"
      ]
     },
     "metadata": {
      "needs_background": "light"
     },
     "output_type": "display_data"
    }
   ],
   "source": [
    "plt.figure()\n",
    "plt.scatter(M11.get_x(), M11.get_y(), c='red', s=350)\n",
    "plt.scatter(M222.get_x(), M222.get_y(), c='blue', s=350)\n",
    "plt.axis([-3, 4, -3, 4])\n",
    "for c in claster_M11:\n",
    "    plt.scatter(c.get_x(), c.get_y(), c='red', s=100)\n",
    "\n",
    "# puis le claster 1 est vide je ne vais rien afficher pour ce claster\n",
    "for c in claster_M222:\n",
    "    plt.scatter(c.get_x(), c.get_y(), c='blue', s=100)\n",
    "plt.show()"
   ]
  },
  {
   "cell_type": "markdown",
   "metadata": {},
   "source": [
    "### Je  pense c'est pas la peine de continuer cette iteration"
   ]
  },
  {
   "cell_type": "code",
   "execution_count": 58,
   "metadata": {},
   "outputs": [
    {
     "name": "stdout",
     "output_type": "stream",
     "text": [
      "le M111 a pour cordonnées: x = -2.0, y = 2.5 \n",
      "le M222 a pour cordonnées: x = 0.20000000000000004, y = 0.21428571428571427 \n"
     ]
    }
   ],
   "source": [
    "# les cordonées des centres finaux\n",
    "M111.decrire('M111')\n",
    "M222.decrire('M222')"
   ]
  },
  {
   "cell_type": "code",
   "execution_count": null,
   "metadata": {},
   "outputs": [],
   "source": []
  },
  {
   "cell_type": "code",
   "execution_count": null,
   "metadata": {},
   "outputs": [],
   "source": []
  }
 ],
 "metadata": {
  "kernelspec": {
   "display_name": "Python 3",
   "language": "python",
   "name": "python3"
  },
  "language_info": {
   "codemirror_mode": {
    "name": "ipython",
    "version": 3
   },
   "file_extension": ".py",
   "mimetype": "text/x-python",
   "name": "python",
   "nbconvert_exporter": "python",
   "pygments_lexer": "ipython3",
   "version": "3.8.5"
  }
 },
 "nbformat": 4,
 "nbformat_minor": 4
}
